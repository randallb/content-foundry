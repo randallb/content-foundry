{
 "cells": [
  {
   "cell_type": "markdown",
   "id": "b1f4dc23-1622-48b3-84fc-de477a570b04",
   "metadata": {},
   "source": [
    "Content Foundry authentication is designed exclusively to facilitate the entry\n",
    "of blog posts and update of brand book.\n",
    "\n",
    "## Goals\n",
    "\n",
    "1. Secure enough to use for a backend editor\n",
    "2. Passwordless\n",
    "3. Works the first time / every time.\n",
    "4. Users should only be able to be created with a secure link generated from a\n",
    "   bff command\n",
    "5. There should be a single organization with each users added to the same org.\n",
    "\n",
    "## Anti goals\n",
    "\n",
    "1. Forgot password\n",
    "2. Extensibility\n",
    "3. multi organizational use\n",
    "\n",
    "\n",
    "## Design\n",
    "[BfPerson](/packages/bfDb/models/BfPerson.ts) should have a [BfPersonCredential](tbd) which implements [simplewebauthn's data structures](https://simplewebauthn.dev/docs/packages/server#additional-data-structures).\n",
    "\n"
   ]
  },
  {
   "cell_type": "code",
   "execution_count": 1,
   "id": "a37ca4b6-9eaa-48ea-a693-a152c29e8262",
   "metadata": {},
   "outputs": [
    {
     "name": "stderr",
     "output_type": "stream",
     "text": [
      "\u001b[2m↱ /home/runner/workspace/packages/bfDb/classes/BfCurrentViewer.ts:23\u001b[22m\n",
      "\u001b[2m\u001b[22m\u001b[33mWARN\u001b[39m: Creating Logged in user: jupyter\n"
     ]
    },
    {
     "data": {
      "text/plain": [
       "BfCurrentViewerLoggedIn {\n",
       "  creator: { url: \u001b[32m\"jupyter\"\u001b[39m },\n",
       "  bfGid: \u001b[32m\"2456ef12070a4caa844decb1e66c7493\"\u001b[39m,\n",
       "  bfOid: \u001b[32m\"2456ef12070a4caa844decb1e66c7493\"\u001b[39m,\n",
       "  __typename: \u001b[32m\"BfCurrentViewerLoggedIn\"\u001b[39m\n",
       "}"
      ]
     },
     "execution_count": 1,
     "metadata": {},
     "output_type": "execute_result"
    }
   ],
   "source": [
    "import { BfPerson } from \"packages/bfDb/models/BfPerson.ts\";\n",
    "import { BfCurrentViewer } from \"packages/bfDb/classes/BfCurrentViewer.ts\"\n",
    "const id = \"2456ef12070a4caa844decb1e66c7493\"\n",
    "const cv = BfCurrentViewer.__DANGEROUS_USE_IN_SCRIPTS_ONLY__createLoggedIn({url: \"jupyter\"}, id, id)\n",
    "\n",
    "cv"
   ]
  },
  {
   "cell_type": "code",
   "execution_count": 2,
   "id": "0168b011-a21c-4603-8aa0-d70c9266503e",
   "metadata": {},
   "outputs": [
    {
     "data": {
      "text/plain": [
       "{\n",
       "  rpId: \u001b[32m\"edf8e625-97b2-43e7-91e8-885e54ecef55-00-20ykhnvy56b3p.kirk.replit.dev\"\u001b[39m,\n",
       "  challenge: \u001b[32m\"Pa8-wm5QKuzYiwAMFYX5kYrFs3ldqMNNqMxvDxlzrcM\"\u001b[39m,\n",
       "  allowCredentials: \u001b[90mundefined\u001b[39m,\n",
       "  timeout: \u001b[33m60000\u001b[39m,\n",
       "  userVerification: \u001b[32m\"preferred\"\u001b[39m,\n",
       "  extensions: \u001b[90mundefined\u001b[39m\n",
       "}"
      ]
     },
     "execution_count": 2,
     "metadata": {},
     "output_type": "execute_result"
    }
   ],
   "source": [
    "const georgie = await BfPerson.find(cv, id)\n",
    "await georgie.generateAuthenticationOptionsForGraphql()"
   ]
  },
  {
   "cell_type": "code",
   "execution_count": null,
   "id": "f7a42947-022f-4246-8f6d-8fb898b56526",
   "metadata": {},
   "outputs": [],
   "source": []
  }
 ],
 "metadata": {
  "kernelspec": {
   "display_name": "Deno",
   "language": "typescript",
   "name": "deno"
  },
  "language_info": {
   "codemirror_mode": "typescript",
   "file_extension": ".ts",
   "mimetype": "text/x.typescript",
   "name": "typescript",
   "nbconvert_exporter": "script",
   "pygments_lexer": "typescript",
   "version": "5.6.2"
  }
 },
 "nbformat": 4,
 "nbformat_minor": 5
}
